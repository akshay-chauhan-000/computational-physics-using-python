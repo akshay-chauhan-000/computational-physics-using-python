{
 "cells": [
  {
   "cell_type": "code",
   "execution_count": 17,
   "metadata": {},
   "outputs": [],
   "source": [
    "import numpy as np\n",
    "import matplotlib.pyplot as plt\n",
    "from matplotlib.animation import FuncAnimation\n",
    "\n",
    "%matplotlib tk\n",
    "\n",
    "# Set up the figure\n",
    "fig, ax = plt.subplots(figsize=(8, 8))\n",
    "ax.set_xlim(0, 200)\n",
    "ax.set_ylim(0, 200)\n",
    "scatter = ax.scatter([], [], color='orange', edgecolor='black', s=6)\n",
    "\n",
    "# Initialize particles within a square\n",
    "particles = 400\n",
    "x = np.random.randint(90, 110, particles)  # Centered at 100\n",
    "y = np.random.randint(90, 110, particles)  # Centered at 100\n",
    "\n",
    "# Add time annotation\n",
    "time_text = ax.text(10, 180, '', fontsize=12, color='black')\n",
    "\n",
    "# Set the number of frames and restart interval\n",
    "total_frames = 10000\n",
    "restart_interval = 10000\n",
    "\n",
    "# Update function for animation\n",
    "def update(frame):\n",
    "    global x, y\n",
    "    x += np.random.randint(-1, 2, particles)\n",
    "    y += np.random.randint(-1, 2, particles)\n",
    "\n",
    "    # Apply boundary conditions\n",
    "    x = np.clip(x, 0, 199)\n",
    "    y = np.clip(y, 0, 199)\n",
    "\n",
    "    scatter.set_offsets(np.column_stack((x, y)))\n",
    "\n",
    "    # Update time annotation\n",
    "    time_text.set_text(f'Timestep: {frame + 1}')\n",
    "\n",
    "    # Restart simulation after restart_interval frames\n",
    "    if (frame + 1) % restart_interval == 0:\n",
    "        restart_simulation()\n",
    "\n",
    "    return scatter, time_text\n",
    "\n",
    "# Function to restart the simulation\n",
    "def restart_simulation():\n",
    "    global x, y\n",
    "    x = np.random.randint(90, 110, particles)\n",
    "    y = np.random.randint(90, 110, particles)\n",
    "\n",
    "# Create animation\n",
    "ani = FuncAnimation(fig, update, frames=total_frames, interval=1, blit=True)\n",
    "\n",
    "plt.show()\n"
   ]
  },
  {
   "cell_type": "code",
   "execution_count": null,
   "metadata": {},
   "outputs": [],
   "source": []
  },
  {
   "cell_type": "code",
   "execution_count": null,
   "metadata": {},
   "outputs": [],
   "source": []
  },
  {
   "cell_type": "code",
   "execution_count": null,
   "metadata": {},
   "outputs": [],
   "source": []
  }
 ],
 "metadata": {
  "kernelspec": {
   "display_name": "Python 3",
   "language": "python",
   "name": "python3"
  },
  "language_info": {
   "codemirror_mode": {
    "name": "ipython",
    "version": 3
   },
   "file_extension": ".py",
   "mimetype": "text/x-python",
   "name": "python",
   "nbconvert_exporter": "python",
   "pygments_lexer": "ipython3",
   "version": "3.11.5"
  }
 },
 "nbformat": 4,
 "nbformat_minor": 2
}
