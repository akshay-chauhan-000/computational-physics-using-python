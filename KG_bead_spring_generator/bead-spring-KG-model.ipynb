{
 "cells": [
  {
   "cell_type": "code",
   "execution_count": 14,
   "metadata": {},
   "outputs": [],
   "source": [
    "import numpy as np\n",
    "\n",
    "def generate_bead_spring_model_spherical_with_persistence(chain_length, num_chains, persistence_length):\n",
    "    bond_length = 0.97\n",
    "    \n",
    "    # Initialize bead positions\n",
    "    bead_positions = np.zeros((num_chains, chain_length, 3))  # Assuming 3D space\n",
    "    \n",
    "    for chain in range(num_chains):\n",
    "        for i in range(1, chain_length):\n",
    "            # Generate spherical coordinates\n",
    "            r = bond_length\n",
    "            theta = np.random.uniform(0, np.pi)\n",
    "            phi = np.random.uniform(0, 2 * np.pi)\n",
    "            \n",
    "            # Convert spherical to Cartesian coordinates\n",
    "            x = r * np.sin(theta) * np.cos(phi)\n",
    "            y = r * np.sin(theta) * np.sin(phi)\n",
    "            z = r * np.cos(theta)\n",
    "            \n",
    "            # Calculate new bead position\n",
    "            new_bead_position = bead_positions[chain, i-1] + np.array([x, y, z])\n",
    "            \n",
    "            # Check persistence length condition\n",
    "            if np.linalg.norm(new_bead_position - bead_positions[chain, i-1]) <= persistence_length:\n",
    "                bead_positions[chain, i] = new_bead_position\n",
    "            else:\n",
    "                # Adjust position to maintain persistence length\n",
    "                bead_positions[chain, i] = bead_positions[chain, i-1] + (new_bead_position - bead_positions[chain, i-1]) * (persistence_length / np.linalg.norm(new_bead_position - bead_positions[chain, i-1]))\n",
    "    \n",
    "    return bead_positions\n",
    "\n",
    "# Example usage\n",
    "chain_length = 10\n",
    "num_chains = 1\n",
    "persistence_length = 1.02\n",
    "\n",
    "bead_positions_spherical_with_persistence = generate_bead_spring_model_spherical_with_persistence(chain_length, num_chains, persistence_length)\n",
    "\n",
    "# bead_positions_spherical_with_persistence is a 3D array representing the positions of beads in the chains.\n",
    "# It has shape (num_chains, chain_length, 3), where the last dimension represents (x, y, z) coordinates.\n"
   ]
  },
  {
   "cell_type": "code",
   "execution_count": 15,
   "metadata": {},
   "outputs": [
    {
     "data": {
      "text/plain": [
       "array([[[ 0.        ,  0.        ,  0.        ],\n",
       "        [-0.39403347,  0.60995011,  0.64311624],\n",
       "        [ 0.09955434,  0.23316248, -0.10206975],\n",
       "        [-0.20016929,  0.09416474,  0.809931  ],\n",
       "        [-0.19051136,  0.11176231,  1.77972327],\n",
       "        [-0.11339777, -0.80805823,  2.0778569 ],\n",
       "        [ 0.19495418, -1.19064387,  1.24152723],\n",
       "        [ 0.30331743, -1.4424284 ,  2.17199054],\n",
       "        [ 0.7506091 , -1.82641138,  2.94230686],\n",
       "        [ 0.64903345, -1.66028006,  1.9920528 ]]])"
      ]
     },
     "execution_count": 15,
     "metadata": {},
     "output_type": "execute_result"
    }
   ],
   "source": [
    "bead_positions_spherical_with_persistence"
   ]
  },
  {
   "cell_type": "code",
   "execution_count": 16,
   "metadata": {},
   "outputs": [],
   "source": [
    "import matplotlib.pyplot as plt\n",
    "\n",
    "# Assuming bead_positions_spherical_with_persistence is already generated\n",
    "\n",
    "# Get the positions\n",
    "positions = bead_positions_spherical_with_persistence[0]  # Assuming num_chains = 1\n",
    "\n",
    "# Extract x, y, z coordinates\n",
    "x = positions[:, 0]\n",
    "y = positions[:, 1]\n",
    "z = positions[:, 2]\n",
    "\n",
    "# Create a 3D line plot with markers\n",
    "fig = plt.figure()\n",
    "ax = fig.add_subplot(projection='3d')\n",
    "\n",
    "ax.plot(x, y, z, marker='o')\n",
    "\n",
    "# Set labels\n",
    "ax.set_xlabel('X')\n",
    "ax.set_ylabel('Y')\n",
    "ax.set_zlabel('Z')\n",
    "\n",
    "plt.show()\n"
   ]
  },
  {
   "cell_type": "code",
   "execution_count": 17,
   "metadata": {},
   "outputs": [],
   "source": [
    "def save_xyz_file(bead_positions, file_name):\n",
    "    num_beads = bead_positions.shape[0] * bead_positions.shape[1]\n",
    "    with open(file_name, 'w') as f:\n",
    "        f.write(f\"{num_beads}\\n\")\n",
    "        for chain in range(bead_positions.shape[0]):\n",
    "            for i in range(bead_positions.shape[1]):\n",
    "                x, y, z = bead_positions[chain, i]\n",
    "                f.write(f\"O {x} {y} {z}\\n\")\n",
    "\n",
    "# Assuming bead_positions_spherical_with_persistence is already generated\n",
    "save_xyz_file(bead_positions_spherical_with_persistence, 'bead_positions.xyz')\n"
   ]
  },
  {
   "cell_type": "code",
   "execution_count": null,
   "metadata": {},
   "outputs": [],
   "source": []
  }
 ],
 "metadata": {
  "kernelspec": {
   "display_name": "Python 3",
   "language": "python",
   "name": "python3"
  },
  "language_info": {
   "codemirror_mode": {
    "name": "ipython",
    "version": 3
   },
   "file_extension": ".py",
   "mimetype": "text/x-python",
   "name": "python",
   "nbconvert_exporter": "python",
   "pygments_lexer": "ipython3",
   "version": "3.11.5"
  }
 },
 "nbformat": 4,
 "nbformat_minor": 2
}
