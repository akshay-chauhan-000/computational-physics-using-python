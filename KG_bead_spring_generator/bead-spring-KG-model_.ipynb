{
 "cells": [
  {
   "cell_type": "code",
   "execution_count": 1,
   "metadata": {},
   "outputs": [],
   "source": [
    "import numpy as np\n",
    "import matplotlib.pyplot as plt\n",
    "%matplotlib tk"
   ]
  },
  {
   "cell_type": "code",
   "execution_count": 2,
   "metadata": {},
   "outputs": [],
   "source": [
    "def generate_chain(chain_length, persistence_length, min_distance):\n",
    "    bond_length = 0.97\n",
    "    \n",
    "    # Initialize bead positions\n",
    "    bead_positions = np.zeros((chain_length, 3))  \n",
    "    \n",
    "    for i in range(1, chain_length):\n",
    "        # Generate spherical coordinates\n",
    "        r = bond_length\n",
    "        theta = np.random.uniform(0, np.pi)\n",
    "        phi = np.random.uniform(0, 2 * np.pi)\n",
    "        \n",
    "        # Convert spherical to Cartesian coordinates\n",
    "        x = r * np.sin(theta) * np.cos(phi)\n",
    "        y = r * np.sin(theta) * np.sin(phi)\n",
    "        z = r * np.cos(theta)\n",
    "        \n",
    "        # Calculate new bead position\n",
    "        new_bead_position = bead_positions[i-1] + np.array([x, y, z])\n",
    "        \n",
    "        # Check persistence length condition\n",
    "        if np.linalg.norm(new_bead_position - bead_positions[i-1]) <= persistence_length:\n",
    "            # Check minimum distance condition\n",
    "            distances = np.linalg.norm(new_bead_position - bead_positions[:i], axis=1)\n",
    "            if np.min(distances) >= min_distance:\n",
    "                bead_positions[i] = new_bead_position\n",
    "            else:\n",
    "                # Adjust position to maintain minimum distance\n",
    "                closest_bead = np.argmin(distances)\n",
    "                direction = new_bead_position - bead_positions[closest_bead]\n",
    "                direction /= np.linalg.norm(direction)\n",
    "                bead_positions[i] = bead_positions[closest_bead] + direction * min_distance\n",
    "        else:\n",
    "            # Adjust position to maintain persistence length\n",
    "            bead_positions[i] = bead_positions[i-1] + (new_bead_position - bead_positions[i-1]) * (persistence_length / np.linalg.norm(new_bead_position - bead_positions[i-1]))\n",
    "    \n",
    "    return bead_positions"
   ]
  },
  {
   "cell_type": "code",
   "execution_count": 3,
   "metadata": {},
   "outputs": [],
   "source": [
    "chain_length = 10\n",
    "persistence_length = 1.02\n",
    "min_distance = 2.5\n",
    "\n",
    "bead_positions = generate_chain(chain_length, persistence_length, min_distance)"
   ]
  },
  {
   "cell_type": "code",
   "execution_count": 4,
   "metadata": {},
   "outputs": [],
   "source": [
    "# Get the positions\n",
    "positions = bead_positions  \n",
    "x = positions[:, 0]\n",
    "y = positions[:, 1]\n",
    "z = positions[:, 2]\n",
    "fig = plt.figure()\n",
    "ax = fig.add_subplot(projection='3d')\n",
    "\n",
    "ax.plot(x, y, z, marker='o', markerfacecolor='orange')\n",
    "\n",
    "ax.set_xlabel('X')\n",
    "ax.set_ylabel('Y')\n",
    "ax.set_zlabel('Z')\n",
    "\n",
    "plt.savefig(\"chain.png\", format='png', dpi=300, bbox_inches='tight')\n",
    "plt.show()\n"
   ]
  },
  {
   "cell_type": "code",
   "execution_count": 16,
   "metadata": {},
   "outputs": [],
   "source": []
  },
  {
   "cell_type": "code",
   "execution_count": null,
   "metadata": {},
   "outputs": [],
   "source": [
    "\n"
   ]
  },
  {
   "cell_type": "code",
   "execution_count": null,
   "metadata": {},
   "outputs": [],
   "source": []
  }
 ],
 "metadata": {
  "kernelspec": {
   "display_name": "Python 3",
   "language": "python",
   "name": "python3"
  },
  "language_info": {
   "codemirror_mode": {
    "name": "ipython",
    "version": 3
   },
   "file_extension": ".py",
   "mimetype": "text/x-python",
   "name": "python",
   "nbconvert_exporter": "python",
   "pygments_lexer": "ipython3",
   "version": "3.11.5"
  }
 },
 "nbformat": 4,
 "nbformat_minor": 2
}
