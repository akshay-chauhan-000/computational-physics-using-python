{
 "cells": [
  {
   "cell_type": "code",
   "execution_count": 4,
   "id": "ed802ea9",
   "metadata": {},
   "outputs": [],
   "source": [
    "%matplotlib tk\n",
    "\n",
    "import numpy as np\n",
    "import random\n",
    "import math\n",
    "import matplotlib.pyplot as plt\n",
    "from matplotlib.animation import FuncAnimation"
   ]
  },
  {
   "cell_type": "code",
   "execution_count": 5,
   "id": "297aac90",
   "metadata": {},
   "outputs": [],
   "source": [
    "def mosquito_random_walk(steps, step_size):\n",
    "    x  = np.zeros(steps)   # Particle position in x direction\n",
    "    y  = np.zeros(steps)   # Particle position in y direction\n",
    "    for i in range(1, steps):\n",
    "        angle = random.uniform(0, 2*math.pi)  \n",
    "        x[i] = x[i-1] + step_size * math.cos(angle) \n",
    "        y[i] = y[i-1] + step_size * math.sin(angle)  \n",
    "    return x, y"
   ]
  },
  {
   "cell_type": "code",
   "execution_count": 6,
   "id": "b89adf88",
   "metadata": {},
   "outputs": [],
   "source": [
    "xcoord, ycoord = mosquito_random_walk(steps=10000, step_size=1.0)"
   ]
  },
  {
   "cell_type": "code",
   "execution_count": 7,
   "id": "6a3632f9",
   "metadata": {},
   "outputs": [],
   "source": [
    "fig,ax = plt.subplots()\n",
    "def animate(i):\n",
    "    fig.clear()\n",
    "    line, = ax.plot(xcoord[0:i], ycoord[0:i], color = 'blue', lw=1)\n",
    "    point, = ax.plot(xcoord[i], ycoord[i], marker='o', color='red')\n",
    "    return line, point\n",
    "ani = FuncAnimation(fig, animate, interval=40, blit=True, repeat=True, frames=100) \n",
    "plt.show()"
   ]
  },
  {
   "cell_type": "code",
   "execution_count": null,
   "id": "22f42ab0",
   "metadata": {},
   "outputs": [],
   "source": []
  }
 ],
 "metadata": {
  "kernelspec": {
   "display_name": "Python 3 (ipykernel)",
   "language": "python",
   "name": "python3"
  },
  "language_info": {
   "codemirror_mode": {
    "name": "ipython",
    "version": 3
   },
   "file_extension": ".py",
   "mimetype": "text/x-python",
   "name": "python",
   "nbconvert_exporter": "python",
   "pygments_lexer": "ipython3",
   "version": "3.8.10"
  }
 },
 "nbformat": 4,
 "nbformat_minor": 5
}
